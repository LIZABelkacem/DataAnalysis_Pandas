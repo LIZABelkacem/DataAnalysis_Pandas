{
 "cells": [
  {
   "cell_type": "raw",
   "metadata": {},
   "source": [
    "# Data Structures "
   ]
  },
  {
   "cell_type": "markdown",
   "metadata": {},
   "source": [
    "# 1d Series"
   ]
  },
  {
   "cell_type": "raw",
   "metadata": {},
   "source": [
    "#create series\n",
    "serie1 = pd.serie([1 , 2], index = ['a', 'b']) # if the index is not specified, defaut one is created ( from 0 to N-1) \n",
    "serie1 = pd.serie(dic1)*\n"
   ]
  },
  {
   "cell_type": "raw",
   "metadata": {},
   "source": [
    "#Get series values\n",
    "serie1.values"
   ]
  },
  {
   "cell_type": "raw",
   "metadata": {},
   "source": [
    "#Get values by index\n",
    "serie1['a']\n",
    "serie1[['b','a']]"
   ]
  },
  {
   "cell_type": "raw",
   "metadata": {},
   "source": [
    "#Get name attribute \n",
    "seire1.name\n",
    "serie1.index.name"
   ]
  },
  {
   "cell_type": "raw",
   "metadata": {},
   "source": [
    "#Common index values added\n",
    "serie1 + serie2"
   ]
  },
  {
   "cell_type": "raw",
   "metadata": {},
   "source": [
    "#Unique but unsorted\n",
    "serie2 = serie1.unique()"
   ]
  },
  {
   "cell_type": "markdown",
   "metadata": {},
   "source": [
    "# 2d dataframe"
   ]
  },
  {
   "cell_type": "raw",
   "metadata": {},
   "source": [
    "#Create dataframe from a dict of  equal-length lists or NumPy arrays\n",
    "dict1 = { 'state': [ 'NY' ,'LA'], 'year': [ 2001 , 2002 ]}\n",
    "\n",
    "df1 = pd.DataFrame(dict1)\n",
    "\n",
    "df1 = pd.DataFrame(dict1, index = [ 'row1' , 'row2'] ))  # column in sorted order\n",
    "\n",
    "df1 = pf.DataFrame(dict1, columns = ['year' , 'state' ] ) # column in given order \n",
    "\n",
    "\n"
   ]
  },
  {
   "cell_type": "code",
   "execution_count": null,
   "metadata": {},
   "outputs": [],
   "source": []
  }
 ],
 "metadata": {
  "kernelspec": {
   "display_name": "Python 3",
   "language": "python",
   "name": "python3"
  },
  "language_info": {
   "codemirror_mode": {
    "name": "ipython",
    "version": 3
   },
   "file_extension": ".py",
   "mimetype": "text/x-python",
   "name": "python",
   "nbconvert_exporter": "python",
   "pygments_lexer": "ipython3",
   "version": "3.6.8"
  }
 },
 "nbformat": 4,
 "nbformat_minor": 2
}
